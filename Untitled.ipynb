{
 "cells": [
  {
   "cell_type": "code",
   "execution_count": 5,
   "id": "f7577901-71c1-46d7-9af0-ff431adae306",
   "metadata": {},
   "outputs": [],
   "source": [
    "import dalmasgeodistance_"
   ]
  },
  {
   "cell_type": "code",
   "execution_count": 3,
   "id": "d83d51f2-6eb8-45a5-af40-81d4c71cc212",
   "metadata": {},
   "outputs": [],
   "source": [
    "kampala = (0.3476, 32.5825)"
   ]
  },
  {
   "cell_type": "code",
   "execution_count": 6,
   "id": "19be24b3-a063-46c1-96e1-a7d592b805c6",
   "metadata": {},
   "outputs": [
    {
     "data": {
      "text/plain": [
       "<module 'DalmasGeoDistance' from '/Users/dalmas.otieno/Documents/learnings/DalmasGeoDistance/venv/lib/python3.10/site-packages/DalmasGeoDistance/__init__.py'>"
      ]
     },
     "execution_count": 6,
     "metadata": {},
     "output_type": "execute_result"
    }
   ],
   "source": [
    "DalmasGeoDistance"
   ]
  },
  {
   "cell_type": "code",
   "execution_count": null,
   "id": "af71208f-c133-4055-a90a-6b30f19725b8",
   "metadata": {},
   "outputs": [],
   "source": []
  }
 ],
 "metadata": {
  "kernelspec": {
   "display_name": "Python 3 (ipykernel)",
   "language": "python",
   "name": "python3"
  },
  "language_info": {
   "codemirror_mode": {
    "name": "ipython",
    "version": 3
   },
   "file_extension": ".py",
   "mimetype": "text/x-python",
   "name": "python",
   "nbconvert_exporter": "python",
   "pygments_lexer": "ipython3",
   "version": "3.10.0"
  }
 },
 "nbformat": 4,
 "nbformat_minor": 5
}
