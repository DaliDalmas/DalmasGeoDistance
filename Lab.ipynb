{
 "cells": [
  {
   "cell_type": "code",
   "execution_count": 31,
   "id": "eec78279-3b67-49cb-a206-d99cc42390ca",
   "metadata": {},
   "outputs": [],
   "source": [
    "import math\n",
    "import pandas as pd\n",
    "import logging"
   ]
  },
  {
   "cell_type": "code",
   "execution_count": 43,
   "id": "c4aaac37-1e43-4419-989f-7b843afb2d3a",
   "metadata": {},
   "outputs": [],
   "source": [
    "class DalmasGeoDistance:\n",
    "    def __init__(self, origin):\n",
    "        self.origin = origin\n",
    "        \n",
    "    def __repr__(self):\n",
    "        return repr(f'DalmasGeoDistance with origin at {self.origin }')\n",
    "\n",
    "    def distance(self, destination):\n",
    "        lat1, lon1 = self.origin\n",
    "        lat2, lon2 = destination\n",
    "        radius = 6371  # km\n",
    "\n",
    "        dlat = math.radians(lat2 - lat1)\n",
    "        dlon = math.radians(lon2 - lon1)\n",
    "        a = (math.sin(dlat / 2) * math.sin(dlat / 2) +\n",
    "             math.cos(math.radians(lat1)) * math.cos(math.radians(lat2)) *\n",
    "             math.sin(dlon / 2) * math.sin(dlon / 2))\n",
    "        c = 2 * math.atan2(math.sqrt(a), math.sqrt(1 - a))\n",
    "        d = radius * c\n",
    "        return d\n",
    "\n",
    "    def evaluate(self, df, lat_column=None ,lon_column=None, measure='km'):\n",
    "        \n",
    "        if isinstance(df, pd.DataFrame):\n",
    "            if (lat_column is not None)&(lon_column is not None):\n",
    "                temp_df = df[[lat_column ,lon_column]]\n",
    "                points_list = list(temp_df.itertuples(index=False, name=None))\n",
    "            else:\n",
    "                raise Exception(\"\"\"You need to provide column names for \n",
    "                                    latitude as lat_column and for longitude \n",
    "                                    as lon_column\"\"\")\n",
    "                \n",
    "        elif isinstance(df, list):\n",
    "            if df[0][0]&df[0][1]:\n",
    "                points_list = df\n",
    "            else:\n",
    "                raise Exception(\"\"\"Your list need to have tuples of geopoints \n",
    "                                    like (latitude, longitude)\"\"\")\n",
    "                \n",
    "        distances = [self.distance(i) for i in points_list]\n",
    "        \n",
    "        if measure=='km':\n",
    "            logging.warning(\"\"\"Returning distances in kilometers you can \n",
    "                                change to miles by passing measure='miles' in evaluate\"\"\")\n",
    "            return distances\n",
    "        elif measure=='miles':\n",
    "            logging.warning(\"\"\"Returning distances in miles you can change to kilometres \n",
    "                                by passing measure='km' in evaluate\"\"\")\n",
    "            return [i*0.621371 for i in distances]\n",
    "        else:\n",
    "            raise Exception(\"The measure can either be km or miles\")"
   ]
  },
  {
   "cell_type": "code",
   "execution_count": 44,
   "id": "dff9e756-878c-4338-af70-9af8e326eb9d",
   "metadata": {},
   "outputs": [],
   "source": [
    "data = pd.read_csv(\"worldcitiespop.csv\",low_memory=False)"
   ]
  },
  {
   "cell_type": "code",
   "execution_count": 45,
   "id": "dc8d55c0-52cb-447e-a7ae-b52fa274ab55",
   "metadata": {},
   "outputs": [
    {
     "data": {
      "text/plain": [
       "Index(['Country', 'City', 'AccentCity', 'Region', 'Population', 'Latitude',\n",
       "       'Longitude'],\n",
       "      dtype='object')"
      ]
     },
     "execution_count": 45,
     "metadata": {},
     "output_type": "execute_result"
    }
   ],
   "source": [
    "data.columns"
   ]
  },
  {
   "cell_type": "code",
   "execution_count": 46,
   "id": "5b3feae4-314e-4fec-a4f5-f2cc217e97f9",
   "metadata": {},
   "outputs": [],
   "source": [
    "kampala = (0.3476, 32.5825)\n",
    "get_distances = DalmasGeoDistance(kampala)Dalmas"
   ]
  },
  {
   "cell_type": "code",
   "execution_count": 49,
   "id": "687abda7-2ff2-4ea8-b4bb-1bbf6b6ed7cc",
   "metadata": {},
   "outputs": [
    {
     "ename": "Exception",
     "evalue": "The measure can either be km or miles",
     "output_type": "error",
     "traceback": [
      "\u001b[0;31m---------------------------------------------------------------------------\u001b[0m",
      "\u001b[0;31mException\u001b[0m                                 Traceback (most recent call last)",
      "Input \u001b[0;32mIn [49]\u001b[0m, in \u001b[0;36m<module>\u001b[0;34m\u001b[0m\n\u001b[0;32m----> 1\u001b[0m \u001b[43mget_distances\u001b[49m\u001b[38;5;241;43m.\u001b[39;49m\u001b[43mevaluate\u001b[49m\u001b[43m(\u001b[49m\u001b[43mdata\u001b[49m\u001b[43m,\u001b[49m\u001b[43m \u001b[49m\u001b[43mlat_column\u001b[49m\u001b[38;5;241;43m=\u001b[39;49m\u001b[38;5;124;43m'\u001b[39;49m\u001b[38;5;124;43mLatitude\u001b[39;49m\u001b[38;5;124;43m'\u001b[39;49m\u001b[43m,\u001b[49m\u001b[43m \u001b[49m\u001b[43mlon_column\u001b[49m\u001b[38;5;241;43m=\u001b[39;49m\u001b[38;5;124;43m'\u001b[39;49m\u001b[38;5;124;43mLongitude\u001b[39;49m\u001b[38;5;124;43m'\u001b[39;49m\u001b[43m,\u001b[49m\u001b[43mmeasure\u001b[49m\u001b[38;5;241;43m=\u001b[39;49m\u001b[38;5;124;43m'\u001b[39;49m\u001b[38;5;124;43mmildes\u001b[39;49m\u001b[38;5;124;43m'\u001b[39;49m\u001b[43m)\u001b[49m\n",
      "Input \u001b[0;32mIn [43]\u001b[0m, in \u001b[0;36mDalmasGeoDistance.evaluate\u001b[0;34m(self, df, lat_column, lon_column, measure)\u001b[0m\n\u001b[1;32m     44\u001b[0m     \u001b[38;5;28;01mreturn\u001b[39;00m [i\u001b[38;5;241m*\u001b[39m\u001b[38;5;241m0.621371\u001b[39m \u001b[38;5;28;01mfor\u001b[39;00m i \u001b[38;5;129;01min\u001b[39;00m distances]\n\u001b[1;32m     45\u001b[0m \u001b[38;5;28;01melse\u001b[39;00m:\n\u001b[0;32m---> 46\u001b[0m     \u001b[38;5;28;01mraise\u001b[39;00m \u001b[38;5;167;01mException\u001b[39;00m(\u001b[38;5;124m\"\u001b[39m\u001b[38;5;124mThe measure can either be km or miles\u001b[39m\u001b[38;5;124m\"\u001b[39m)\n",
      "\u001b[0;31mException\u001b[0m: The measure can either be km or miles"
     ]
    }
   ],
   "source": [
    "get_distances.evaluate(data, lat_column='Latitude', lon_column='Longitude',measure='mildes')"
   ]
  },
  {
   "cell_type": "code",
   "execution_count": 42,
   "id": "f8301ba6-7d17-4aa3-a12c-c2a537c10826",
   "metadata": {},
   "outputs": [],
   "source": [
    "lat = None"
   ]
  },
  {
   "cell_type": "code",
   "execution_count": 22,
   "id": "4210dc8f-0e5a-4fce-bfa5-6ba40a2af27d",
   "metadata": {},
   "outputs": [],
   "source": [
    "lat"
   ]
  },
  {
   "cell_type": "code",
   "execution_count": 50,
   "id": "ebc9ff55-0d7e-4f7a-9ba4-ad35e33e3ce8",
   "metadata": {},
   "outputs": [],
   "source": []
  },
  {
   "cell_type": "code",
   "execution_count": null,
   "id": "6628e0ba-3746-41bb-be0d-64939dd58e4d",
   "metadata": {},
   "outputs": [],
   "source": []
  }
 ],
 "metadata": {
  "kernelspec": {
   "display_name": "Python 3 (ipykernel)",
   "language": "python",
   "name": "python3"
  },
  "language_info": {
   "codemirror_mode": {
    "name": "ipython",
    "version": 3
   },
   "file_extension": ".py",
   "mimetype": "text/x-python",
   "name": "python",
   "nbconvert_exporter": "python",
   "pygments_lexer": "ipython3",
   "version": "3.10.0"
  }
 },
 "nbformat": 4,
 "nbformat_minor": 5
}
